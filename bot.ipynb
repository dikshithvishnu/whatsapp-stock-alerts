{
 "cells": [
  {
   "cell_type": "code",
   "execution_count": 5,
   "metadata": {},
   "outputs": [],
   "source": [
    "from bs4 import BeautifulSoup\n",
    "import pywhatkit as kit\n",
    "import requests\n",
    "import datetime"
   ]
  },
  {
   "cell_type": "code",
   "execution_count": 6,
   "metadata": {},
   "outputs": [],
   "source": [
    "URL = \"https://www.tickertape.in/stocks/tata-consultancy-services-TCS?checklist=basic\"\n",
    "r = requests.get(URL)\n",
    "  \n",
    "soup = BeautifulSoup(r.content, 'html5lib') # If this line causes an error, run 'pip install html5lib' or install html5lib"
   ]
  },
  {
   "cell_type": "code",
   "execution_count": 7,
   "metadata": {},
   "outputs": [
    {
     "name": "stdout",
     "output_type": "stream",
     "text": [
      "Tata Consultancy Services Ltd\n",
      "3,091.15\n",
      "0.00%\n",
      "In 85 Seconds WhatsApp will open and after 15 Seconds Message will be Delivered!\n"
     ]
    }
   ],
   "source": [
    "security_name = soup.find('h1', attrs = {'class':'ellipsis'}) \n",
    "security_name = security_name.text.strip()\n",
    "security_price = soup.find('span', attrs= {'class':'current-price'})\n",
    "security_price = security_price.text.strip()\n",
    "todays_change = soup.find('span', attrs= {'class':'absolute-value'})\n",
    "todays_change = todays_change.text.strip()\n",
    "phone_number = \"+919845042109\"\n",
    "print(security_name)\n",
    "print(security_price)\n",
    "print(todays_change)\n",
    "kit.sendwhatmsg(phone_number, \"Today's price for \" + security_name + \" is ₹\" + security_price + \". It has moved a mere \" + todays_change + \" points since the markets opened.\", 21, 41)\n",
    "# kit.sendwhatmsg(\"+918147521449\", \"Good Night\", 20, 29)"
   ]
  }
 ],
 "metadata": {
  "interpreter": {
   "hash": "aee8b7b246df8f9039afb4144a1f6fd8d2ca17a180786b69acc140d282b71a49"
  },
  "kernelspec": {
   "display_name": "Python 3.10.0 64-bit",
   "language": "python",
   "name": "python3"
  },
  "language_info": {
   "codemirror_mode": {
    "name": "ipython",
    "version": 3
   },
   "file_extension": ".py",
   "mimetype": "text/x-python",
   "name": "python",
   "nbconvert_exporter": "python",
   "pygments_lexer": "ipython3",
   "version": "3.10.0"
  },
  "orig_nbformat": 4
 },
 "nbformat": 4,
 "nbformat_minor": 2
}
